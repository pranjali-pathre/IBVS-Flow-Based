{
 "cells": [
  {
   "cell_type": "code",
   "execution_count": 5,
   "id": "6a68423d",
   "metadata": {},
   "outputs": [],
   "source": [
    "from pygltflib import GLTF2\n",
    "from pygltflib.utils import ImageFormat"
   ]
  },
  {
   "cell_type": "code",
   "execution_count": 8,
   "id": "d7a667dd",
   "metadata": {},
   "outputs": [
    {
     "name": "stderr",
     "output_type": "stream",
     "text": [
      "/home/pranjali/miniconda3/lib/python3.10/site-packages/pygltflib/__init__.py:741: UserWarning: pygltflib currently does not remove image data from the buffer when converting to files.Please open an issue at https://gitlab.com/dodgyville/pygltflib/issues\n",
      "  warnings.warn(\n"
     ]
    },
    {
     "data": {
      "text/plain": [
       "'0.jpg'"
      ]
     },
     "execution_count": 8,
     "metadata": {},
     "output_type": "execute_result"
    }
   ],
   "source": [
    "filename = \"./Quantico.glb\"\n",
    "gltf = GLTF2().load(filename)\n",
    "gltf.images[0].name = \"cube.png\"  # will save the data uri to this file (regardless of data format)\n",
    "gltf.convert_images(ImageFormat.FILE)\n",
    "gltf.images[0].uri"
   ]
  },
  {
   "cell_type": "code",
   "execution_count": 9,
   "id": "cdb23e35",
   "metadata": {},
   "outputs": [
    {
     "ename": "ModuleNotFoundError",
     "evalue": "No module named 'habitat_sim'",
     "output_type": "error",
     "traceback": [
      "\u001b[0;31m---------------------------------------------------------------------------\u001b[0m",
      "\u001b[0;31mModuleNotFoundError\u001b[0m                       Traceback (most recent call last)",
      "Cell \u001b[0;32mIn[9], line 3\u001b[0m\n\u001b[1;32m      1\u001b[0m \u001b[38;5;28;01mimport\u001b[39;00m \u001b[38;5;21;01mnumpy\u001b[39;00m \u001b[38;5;28;01mas\u001b[39;00m \u001b[38;5;21;01mnp\u001b[39;00m\n\u001b[1;32m      2\u001b[0m \u001b[38;5;28;01mimport\u001b[39;00m \u001b[38;5;21;01mmatplotlib\u001b[39;00m\u001b[38;5;21;01m.\u001b[39;00m\u001b[38;5;21;01mpyplot\u001b[39;00m \u001b[38;5;28;01mas\u001b[39;00m \u001b[38;5;21;01mplt\u001b[39;00m\n\u001b[0;32m----> 3\u001b[0m \u001b[38;5;28;01mfrom\u001b[39;00m \u001b[38;5;21;01mhabitat_sim\u001b[39;00m\u001b[38;5;21;01m.\u001b[39;00m\u001b[38;5;21;01mutils\u001b[39;00m\u001b[38;5;21;01m.\u001b[39;00m\u001b[38;5;21;01mdata\u001b[39;00m \u001b[38;5;28;01mimport\u001b[39;00m ImageExtractor\n",
      "\u001b[0;31mModuleNotFoundError\u001b[0m: No module named 'habitat_sim'"
     ]
    }
   ],
   "source": [
    "import numpy as np\n",
    "import matplotlib.pyplot as plt\n",
    "from habitat_sim.utils.data import ImageExtractor"
   ]
  },
  {
   "cell_type": "code",
   "execution_count": null,
   "id": "4e438ac0",
   "metadata": {},
   "outputs": [],
   "source": [
    "# For viewing the extractor output\n",
    "def display_sample(sample):\n",
    "    img = sample[\"rgba\"]\n",
    "    depth = sample[\"depth\"]\n",
    "    semantic = sample[\"semantic\"]\n",
    "\n",
    "    arr = [img, depth, semantic]\n",
    "    titles = [\"rgba\", \"depth\", \"semantic\"]\n",
    "    plt.figure(figsize=(12, 8))\n",
    "    for i, data in enumerate(arr):\n",
    "        ax = plt.subplot(1, 3, i + 1)\n",
    "        ax.axis(\"off\")\n",
    "        ax.set_title(titles[i])\n",
    "        plt.imshow(data)\n",
    "\n",
    "    plt.show()"
   ]
  },
  {
   "cell_type": "code",
   "execution_count": null,
   "id": "187fa920",
   "metadata": {},
   "outputs": [],
   "source": [
    "scene_filepath = \"data/scene_datasets/habitat-test-scenes/apartment_1.glb\"\n",
    "\n",
    "extractor = ImageExtractor(\n",
    "    scene_filepath,\n",
    "#     img_size=(512, 512),\n",
    "    output=[\"rgba\", \"depth\", \"semantic\"],\n",
    ")\n",
    "\n",
    "# Use the list of train outputs instead of the default, which is the full list\n",
    "# of outputs (test + train)\n",
    "extractor.set_mode('train')\n",
    "\n",
    "# Index in to the extractor like a normal python list\n",
    "sample = extractor[0]\n",
    "\n",
    "# Or use slicing\n",
    "samples = extractor[1:4]\n",
    "for sample in samples:\n",
    "    display_sample(sample)\n",
    "\n",
    "# Close the extractor so we can instantiate another one later\n",
    "# (see close method for detailed explanation)\n",
    "extractor.close()"
   ]
  }
 ],
 "metadata": {
  "kernelspec": {
   "display_name": "Python 3 (ipykernel)",
   "language": "python",
   "name": "python3"
  },
  "language_info": {
   "codemirror_mode": {
    "name": "ipython",
    "version": 3
   },
   "file_extension": ".py",
   "mimetype": "text/x-python",
   "name": "python",
   "nbconvert_exporter": "python",
   "pygments_lexer": "ipython3",
   "version": "3.10.8"
  }
 },
 "nbformat": 4,
 "nbformat_minor": 5
}
